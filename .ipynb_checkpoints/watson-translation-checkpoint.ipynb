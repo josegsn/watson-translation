{
 "cells": [
  {
   "cell_type": "code",
   "execution_count": 2,
   "metadata": {},
   "outputs": [],
   "source": [
    "#passwords.py\n",
    "\n",
    "URL = 'https://gateway-lon.watsonplatform.net/language-translator/api'\n",
    "API_KEY = 'ghqj0UDuYwe6IlmWTJpmvp0ZqV5QHp7EdovHRI1TpkXj'"
   ]
  },
  {
   "cell_type": "code",
   "execution_count": 3,
   "metadata": {},
   "outputs": [],
   "source": [
    "#configuration.py\n",
    "import requests\n",
    "import json\n",
    "from ibm_watson import LanguageTranslatorV3\n",
    "from ibm_cloud_sdk_core.authenticators import IAMAuthenticator\n",
    "# from keys.py import *\n",
    "\n",
    "authenticator = IAMAuthenticator(API_KEY)\n",
    "\n",
    "# Setting the service \n",
    "\n",
    "language_translator = LanguageTranslatorV3(\n",
    "    version='2018-05-01',\n",
    "    authenticator=authenticator\n",
    ")\n",
    "\n",
    "language_translator.set_service_url(URL)"
   ]
  },
  {
   "cell_type": "code",
   "execution_count": 4,
   "metadata": {},
   "outputs": [],
   "source": [
    "#helper.py\n",
    "\n",
    "def get_languages():\n",
    "    \"\"\"\n",
    "    Function generating a dictionary with all the languages available\n",
    "\n",
    "    Args:\n",
    "        None\n",
    "\n",
    "    Returns:\n",
    "        languages_dict (dict): with language code (e.g. 'en') as key and name (e.g. 'English') as value\n",
    "    \"\"\"\n",
    "    \n",
    "    languages_dict = dict()\n",
    "    response_list = language_translator.list_identifiable_languages().get_result()['languages']\n",
    "    \n",
    "    for item in response_list:\n",
    "        languages_dict[item['language']] = item['name']\n",
    "    return languages_dict\n",
    "\n",
    "\n",
    "\n",
    "def id_language(txt):\n",
    "    \"\"\"\n",
    "    Function identifying the language of a text string\n",
    "\n",
    "    Args:\n",
    "        txt (str): string of text to be translated\n",
    "\n",
    "    Returns:\n",
    "        If the user agrees with the identified language:\n",
    "        identified_language (str): a string with the identified language\n",
    "    \"\"\"\n",
    "    \n",
    "    print('\\n Identifying language... \\n')\n",
    "    \n",
    "    response_dict = language_translator.identify(txt).get_result()\n",
    "    \n",
    "    identified_language = response_dict['languages'][0]['language']\n",
    "    \n",
    "    language_name = get_languages()[identified_language]\n",
    "    print(f\"We believe your sentence is in {language_name}\")\n",
    "    \n",
    "    agreement = input(\"Happy to proceed? (Y/N)\")\n",
    "    \n",
    "    if agreement.upper() in ('YES','Y'):\n",
    "        return identified_language\n",
    "    else:\n",
    "        print('Ok, sorry for that. Cancelling translating process')\n",
    "\n",
    "        \n",
    "        \n",
    "def find_available_model(language):\n",
    "\n",
    "    models = language_translator.list_models().get_result()\n",
    "    models_list = []\n",
    "    for model in models['models']:\n",
    "        models_list.append(model['model_id'])\n",
    "\n",
    "    available_models_list = list(filter(lambda m: m.startswith(language), models_list))\n",
    "    available_languages_list = list(map(lambda x: x.split('-')[1],available_models_list))\n",
    "\n",
    "    return available_languages_list\n",
    "\n",
    "\n",
    "\n",
    "def build_model(language, language_list):\n",
    "\n",
    "    languages_dict = get_languages()\n",
    "    languages_dict_reversed = dict(map(reversed, languages_dict.items()))\n",
    "\n",
    "    available_languages_text = \"\"\"Pick one of the following available languages to translate to:\\n\"\"\"\n",
    "    \n",
    "    for item in language_list:\n",
    "        available_languages_text += f\"{languages_dict[item]}\\n\"\n",
    "\n",
    "    selected_language = input(available_languages_text).lower().capitalize()\n",
    "    \n",
    "    return f\"{language}-{languages_dict_reversed[selected_language]}\"\n",
    "\n",
    "\n",
    "\n",
    "def translation():\n",
    "\n",
    "    translation = language_translator.translate(\n",
    "    text=user_input,\n",
    "    model_id=model).get_result()\n",
    "    return translation['translations'][0]['translation']\n",
    "\n"
   ]
  },
  {
   "cell_type": "code",
   "execution_count": 52,
   "metadata": {},
   "outputs": [
    {
     "name": "stdin",
     "output_type": "stream",
     "text": [
      "Introduce sentence to translate I like going to the beach\n"
     ]
    },
    {
     "name": "stdout",
     "output_type": "stream",
     "text": [
      "\n",
      " Identifying language... \n",
      "\n",
      "We believe your sentence is in English\n"
     ]
    },
    {
     "name": "stdin",
     "output_type": "stream",
     "text": [
      "Happy to proceed? (Y/N) Y\n"
     ]
    },
    {
     "name": "stdout",
     "output_type": "stream",
     "text": [
      "['tr', 'he', 'da', 'hi', 'de', 'pt', 'zh', 'lt', 'hr', 'hu', 'id', 'ms', 'el', 'it', 'zh', 'es', 'et', 'ar', 'nb', 'ja', 'nl', 'ro', 'fi', 'ru', 'bg', 'fr', 'sk', 'ga', 'sl', 'ko', 'sv', 'cs', 'th', 'pl']\n"
     ]
    }
   ],
   "source": [
    "# main.py\n",
    "from configuration.py import *\n",
    "from helper.py import *\n",
    "\n",
    "user_input = input(\"Introduce sentence to translate\")\n",
    "identified_language = id_language(user_input)\n",
    "available_languages_list = find_available_model(identified_language)"
   ]
  },
  {
   "cell_type": "code",
   "execution_count": 45,
   "metadata": {},
   "outputs": [],
   "source": [
    "model = build_model(identified_language, available_languages_list)"
   ]
  },
  {
   "cell_type": "code",
   "execution_count": 46,
   "metadata": {},
   "outputs": [],
   "source": [
    "languages_dict = get_languages()\n",
    "languages_dict_reversed = dict(map(reversed, languages_dict.items()))\n"
   ]
  },
  {
   "cell_type": "code",
   "execution_count": 46,
   "metadata": {},
   "outputs": [],
   "source": [
    "xf = \"\"\"Pick one of the following available languages to translate to:\\n\"\"\""
   ]
  },
  {
   "cell_type": "code",
   "execution_count": 53,
   "metadata": {},
   "outputs": [
    {
     "name": "stdout",
     "output_type": "stream",
     "text": [
      "tr\n",
      "Turkish\n",
      "\n",
      "he\n",
      "Hebrew\n",
      "\n",
      "da\n",
      "Danish\n",
      "\n",
      "hi\n",
      "Hindi\n",
      "\n",
      "de\n",
      "German\n",
      "\n",
      "pt\n",
      "Portuguese\n",
      "\n",
      "zh\n",
      "Simplified Chinese\n",
      "\n",
      "lt\n",
      "Lithuanian\n",
      "\n",
      "hr\n",
      "Croatian\n",
      "\n",
      "hu\n",
      "Hungarian\n",
      "\n",
      "id\n"
     ]
    },
    {
     "ename": "KeyError",
     "evalue": "'id'",
     "output_type": "error",
     "traceback": [
      "\u001b[0;31m---------------------------------------------------------------------------\u001b[0m",
      "\u001b[0;31mKeyError\u001b[0m                                  Traceback (most recent call last)",
      "\u001b[0;32m<ipython-input-53-caf7a0f7af5b>\u001b[0m in \u001b[0;36m<module>\u001b[0;34m\u001b[0m\n\u001b[1;32m      1\u001b[0m \u001b[0;32mfor\u001b[0m \u001b[0mitem\u001b[0m \u001b[0;32min\u001b[0m \u001b[0mavailable_languages_list\u001b[0m\u001b[0;34m:\u001b[0m\u001b[0;34m\u001b[0m\u001b[0;34m\u001b[0m\u001b[0m\n\u001b[1;32m      2\u001b[0m     \u001b[0mprint\u001b[0m\u001b[0;34m(\u001b[0m\u001b[0mitem\u001b[0m\u001b[0;34m)\u001b[0m\u001b[0;34m\u001b[0m\u001b[0;34m\u001b[0m\u001b[0m\n\u001b[0;32m----> 3\u001b[0;31m     \u001b[0mprint\u001b[0m\u001b[0;34m(\u001b[0m\u001b[0;34mf\"{languages_dict[item]}\\n\"\u001b[0m\u001b[0;34m)\u001b[0m\u001b[0;34m\u001b[0m\u001b[0;34m\u001b[0m\u001b[0m\n\u001b[0m",
      "\u001b[0;31mKeyError\u001b[0m: 'id'"
     ]
    }
   ],
   "source": [
    "for item in available_languages_list:\n",
    "    print(item)\n",
    "    print(f\"{languages_dict[item]}\\n\")"
   ]
  },
  {
   "cell_type": "code",
   "execution_count": 46,
   "metadata": {},
   "outputs": [
    {
     "ename": "KeyError",
     "evalue": "'id'",
     "output_type": "error",
     "traceback": [
      "\u001b[0;31m---------------------------------------------------------------------------\u001b[0m",
      "\u001b[0;31mKeyError\u001b[0m                                  Traceback (most recent call last)",
      "\u001b[0;32m<ipython-input-46-abe685f6035f>\u001b[0m in \u001b[0;36m<module>\u001b[0;34m\u001b[0m\n\u001b[1;32m      5\u001b[0m \u001b[0;34m\u001b[0m\u001b[0m\n\u001b[1;32m      6\u001b[0m \u001b[0;32mfor\u001b[0m \u001b[0mitem\u001b[0m \u001b[0;32min\u001b[0m \u001b[0mavailable_languages_list\u001b[0m\u001b[0;34m:\u001b[0m\u001b[0;34m\u001b[0m\u001b[0;34m\u001b[0m\u001b[0m\n\u001b[0;32m----> 7\u001b[0;31m     \u001b[0mavailable_languages_text\u001b[0m \u001b[0;34m+=\u001b[0m \u001b[0;34mf\"{languages_dict[item]}\\n\"\u001b[0m\u001b[0;34m\u001b[0m\u001b[0;34m\u001b[0m\u001b[0m\n\u001b[0m\u001b[1;32m      8\u001b[0m \u001b[0;34m\u001b[0m\u001b[0m\n\u001b[1;32m      9\u001b[0m \u001b[0mselected_language\u001b[0m \u001b[0;34m=\u001b[0m \u001b[0minput\u001b[0m\u001b[0;34m(\u001b[0m\u001b[0mavailable_languages_text\u001b[0m\u001b[0;34m)\u001b[0m\u001b[0;34m.\u001b[0m\u001b[0mlower\u001b[0m\u001b[0;34m(\u001b[0m\u001b[0;34m)\u001b[0m\u001b[0;34m.\u001b[0m\u001b[0mcapitalize\u001b[0m\u001b[0;34m(\u001b[0m\u001b[0;34m)\u001b[0m\u001b[0;34m\u001b[0m\u001b[0;34m\u001b[0m\u001b[0m\n",
      "\u001b[0;31mKeyError\u001b[0m: 'id'"
     ]
    }
   ],
   "source": [
    "selected_language = input(available_languages_text).lower().capitalize()\n",
    "\n",
    "return f\"{language}-{languages_dict_reversed[identified_language]}\""
   ]
  },
  {
   "cell_type": "code",
   "execution_count": 83,
   "metadata": {},
   "outputs": [],
   "source": [
    "\n"
   ]
  },
  {
   "cell_type": "code",
   "execution_count": null,
   "metadata": {},
   "outputs": [],
   "source": []
  }
 ],
 "metadata": {
  "kernelspec": {
   "display_name": "Python 3",
   "language": "python",
   "name": "python3"
  },
  "language_info": {
   "codemirror_mode": {
    "name": "ipython",
    "version": 3
   },
   "file_extension": ".py",
   "mimetype": "text/x-python",
   "name": "python",
   "nbconvert_exporter": "python",
   "pygments_lexer": "ipython3",
   "version": "3.7.4"
  }
 },
 "nbformat": 4,
 "nbformat_minor": 4
}
